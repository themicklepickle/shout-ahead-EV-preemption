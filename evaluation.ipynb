{
 "metadata": {
  "language_info": {
   "codemirror_mode": {
    "name": "ipython",
    "version": 3
   },
   "file_extension": ".py",
   "mimetype": "text/x-python",
   "name": "python",
   "nbconvert_exporter": "python",
   "pygments_lexer": "ipython3",
   "version": "3.8.8"
  },
  "orig_nbformat": 2,
  "kernelspec": {
   "name": "python388jvsc74a57bd07e85ec9bf098c5427e45e2f632dcd4eeff803b007e1abd287d600879388709c1",
   "display_name": "Python 3.8.8 64-bit"
  },
  "metadata": {
   "interpreter": {
    "hash": "7e85ec9bf098c5427e45e2f632dcd4eeff803b007e1abd287d600879388709c1"
   }
  }
 },
 "nbformat": 4,
 "nbformat_minor": 2,
 "cells": [
  {
   "source": [
    "## Setup"
   ],
   "cell_type": "markdown",
   "metadata": {}
  },
  {
   "cell_type": "code",
   "execution_count": 1,
   "metadata": {},
   "outputs": [],
   "source": [
    "from API.Tester import Tester\n",
    "\n",
    "tester = Tester()\n",
    "\n",
    "base_system = \"Fri_Apr_23_02:54:35_PM_2021\"\n",
    "EV_direct = \"Fri_Apr_23_03:00:20_PM_2021\"\n",
    "EV_layered_1 = \"Sun_Apr_25_02:05:54_PM_2021\""
   ]
  },
  {
   "source": [
    "## Control"
   ],
   "cell_type": "markdown",
   "metadata": {}
  },
  {
   "cell_type": "code",
   "execution_count": 2,
   "metadata": {},
   "outputs": [
    {
     "output_type": "stream",
     "name": "stdout",
     "text": [
      " Retrying in 1 seconds\n",
      "\n",
      "\n",
      "blank [0, 0, 1] False\n",
      "EVStops: [2726]\n",
      "average EVStops: 2726.0\n",
      "\n",
      "averageEVSpeed: [2.4984654224015252]\n",
      "average averageEVSpeed: 2.4984654224015252\n",
      "\n",
      "simulationTime: [1417]\n",
      "average simulationTime: 1417.0\n",
      "\n"
     ]
    }
   ],
   "source": [
    "tester.testRules(\"blank\", [0,0,1], False, 1)"
   ]
  },
  {
   "source": [
    "## Base System"
   ],
   "cell_type": "markdown",
   "metadata": {}
  },
  {
   "cell_type": "code",
   "execution_count": null,
   "metadata": {},
   "outputs": [],
   "source": [
    "tester.addBestPoolInGeneration(59, \"averageEVSpeed\", base_system, \"base_system_59_average_EV_speed\")\n",
    "tester.testRules(\"base_system_59_average_EV_speed\", [0,0,1], False, 10)"
   ]
  },
  {
   "cell_type": "code",
   "execution_count": null,
   "metadata": {},
   "outputs": [],
   "source": [
    "tester.addBestPoolInGeneration(59, \"simulationTime\", base_system, \"base_system_59_simulation_time\")\n",
    "tester.testRules(\"base_system_59_simulation_time\", [0,0,1], False, 10)"
   ]
  },
  {
   "cell_type": "code",
   "execution_count": null,
   "metadata": {},
   "outputs": [],
   "source": [
    "tester.getTopFitnessesPerGeneration(base_system, \"base_system_top_fitnesses_per_gen\")\n",
    "tester.getBestResultsPerGeneration(base_system, \"base_system_best_results_per_gen\")"
   ]
  },
  {
   "source": [
    "## EV Layered #1"
   ],
   "cell_type": "markdown",
   "metadata": {}
  },
  {
   "cell_type": "code",
   "execution_count": null,
   "metadata": {},
   "outputs": [],
   "source": [
    "tester.addBestPoolInGeneration(58, \"averageEVSpeed\", EV_layered_1, \"EV_layered_1_58_average_EV_speed\")\n",
    "tester.addRuleSetToRuleSet(\"EV_layered_1_58_average_EV_speed\", \"base_system_59_average_EV_speed\")\n",
    "tester.testRules(\"EV_layered_1_58_average_EV_speed\", [0,0,1], False, 10)"
   ]
  },
  {
   "cell_type": "code",
   "execution_count": null,
   "metadata": {},
   "outputs": [],
   "source": [
    "tester.getTopFitnessesPerGeneration(EV_layered_1, \"EV_layered_1_top_fitnesses_per_gen\")\n",
    "tester.getBestResultsPerGeneration(EV_layered_1, \"EV_layered_1_best_results_per_gen\")"
   ]
  },
  {
   "source": [
    "## EV Layered #2"
   ],
   "cell_type": "markdown",
   "metadata": {}
  },
  {
   "cell_type": "code",
   "execution_count": null,
   "metadata": {},
   "outputs": [],
   "source": [
    "tester.getTopFitnessesPerGeneration(EV_layered_2, \"EV_layered_2_top_fitnesses_per_gen\")\n",
    "tester.getBestResultsPerGeneration(EV_layered_2, \"EV_layered_2_best_results_per_gen\")"
   ]
  }
 ]
}